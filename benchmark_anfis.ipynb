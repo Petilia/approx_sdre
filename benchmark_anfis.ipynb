{
 "cells": [
  {
   "cell_type": "code",
   "execution_count": 1,
   "metadata": {},
   "outputs": [],
   "source": [
    "import scipy.io\n",
    "import torch.nn as nn\n",
    "import torch"
   ]
  },
  {
   "attachments": {},
   "cell_type": "markdown",
   "metadata": {},
   "source": [
    "# ANFIS из первого примера (200 треков)"
   ]
  },
  {
   "cell_type": "code",
   "execution_count": 2,
   "metadata": {},
   "outputs": [],
   "source": [
    "sdre_mat_path = \"./matlab/sdre_res.mat\"\n",
    "anfis_mat_path = \"./matlab/nfc_res.mat\"\n",
    "\n",
    "gt_sdre = scipy.io.loadmat(sdre_mat_path)[\"sdre_res\"]\n",
    "anfis_output = scipy.io.loadmat(anfis_mat_path)[\"nfc_res\"]"
   ]
  },
  {
   "cell_type": "code",
   "execution_count": 3,
   "metadata": {},
   "outputs": [
    {
     "data": {
      "text/plain": [
       "((200, 101, 3, 3), (200, 101, 3, 3), (1, 181800), 181800)"
      ]
     },
     "execution_count": 3,
     "metadata": {},
     "output_type": "execute_result"
    }
   ],
   "source": [
    "gt_sdre.shape, anfis_output.shape, gt_sdre.reshape(1, -1).shape, 200 * 101 * 3 * 3"
   ]
  },
  {
   "cell_type": "code",
   "execution_count": 4,
   "metadata": {},
   "outputs": [],
   "source": [
    "gt_sdre = gt_sdre.reshape(1, -1)\n",
    "gt_sdre = torch.Tensor(gt_sdre)\n",
    "\n",
    "anfis_output = anfis_output.reshape(1, -1)\n",
    "anfis_output = torch.Tensor(anfis_output)"
   ]
  },
  {
   "cell_type": "code",
   "execution_count": 5,
   "metadata": {},
   "outputs": [
    {
     "data": {
      "text/plain": [
       "tensor(0.0092)"
      ]
     },
     "execution_count": 5,
     "metadata": {},
     "output_type": "execute_result"
    }
   ],
   "source": [
    "criteria = nn.MSELoss()\n",
    "criteria(anfis_output, gt_sdre)"
   ]
  },
  {
   "attachments": {},
   "cell_type": "markdown",
   "metadata": {},
   "source": [
    "# Тест на разном числе треков"
   ]
  },
  {
   "cell_type": "code",
   "execution_count": 6,
   "metadata": {},
   "outputs": [],
   "source": [
    "from data_utils import split_data_to_traj_and_control, mat2tracks\n",
    "import wandb\n",
    "import scipy.io\n",
    "import matplotlib.pyplot as plt\n",
    "import numpy as np\n",
    "import torch\n",
    "from torch.utils.data import TensorDataset, DataLoader\n",
    "import torch.nn as nn\n",
    "import torch.nn.functional as F\n",
    "import torch.optim as optim\n",
    "import os\n",
    "from pathlib import Path"
   ]
  },
  {
   "cell_type": "code",
   "execution_count": 7,
   "metadata": {},
   "outputs": [],
   "source": [
    "criteria = nn.MSELoss()"
   ]
  },
  {
   "cell_type": "code",
   "execution_count": 8,
   "metadata": {},
   "outputs": [
    {
     "data": {
      "text/plain": [
       "[WindowsPath('data/10_traj'),\n",
       " WindowsPath('data/25_traj'),\n",
       " WindowsPath('data/50_traj'),\n",
       " WindowsPath('data/100_traj'),\n",
       " WindowsPath('data/200_traj'),\n",
       " WindowsPath('data/500_traj'),\n",
       " WindowsPath('data/750_traj'),\n",
       " WindowsPath('data/1000_traj')]"
      ]
     },
     "execution_count": 8,
     "metadata": {},
     "output_type": "execute_result"
    }
   ],
   "source": [
    "data_root = \"./data\"\n",
    "data_root = Path(\"./data\")\n",
    "folder_names = os.listdir(data_root)\n",
    "folder_names.sort(key = lambda x: int(x.split(\"_\")[0]))\n",
    "folder_paths = [data_root / i for i in folder_names]\n",
    "# folder_paths.pop(2)  # удаление неправильного файла с 50 треками\n",
    "# folder_paths.pop(3)  # удаление неправильного файла с 50 треками\n",
    "folder_paths"
   ]
  },
  {
   "cell_type": "code",
   "execution_count": 9,
   "metadata": {},
   "outputs": [
    {
     "name": "stdout",
     "output_type": "stream",
     "text": [
      "(10, 101, 3, 3)\n",
      "(25, 101, 3, 3)\n",
      "(50, 101, 3, 3)\n",
      "(100, 101, 3, 3)\n",
      "(200, 101, 3, 3)\n",
      "(500, 101, 3, 3)\n",
      "(750, 101, 3, 3)\n",
      "(1000, 101, 3, 3)\n"
     ]
    }
   ],
   "source": [
    "# cur_dir_path =  folder_paths[0]\n",
    "\n",
    "n_traj = []\n",
    "losses = []\n",
    "\n",
    "\n",
    "for cur_dir_path in folder_paths:\n",
    "    sdre_mat_path = cur_dir_path / \"sdre_res.mat\"\n",
    "    anfis_mat_path = cur_dir_path / \"nfc_res.mat\"\n",
    "\n",
    "    gt_sdre = scipy.io.loadmat(sdre_mat_path)[\"sdre_res\"]\n",
    "    anfis_output = scipy.io.loadmat(anfis_mat_path)[\"nfc_res\"]\n",
    "    print(anfis_output.shape)\n",
    "\n",
    "    gt_sdre = gt_sdre.reshape(1, -1)\n",
    "    gt_sdre = torch.Tensor(gt_sdre)\n",
    "    anfis_output = anfis_output.reshape(1, -1)\n",
    "    anfis_output = torch.Tensor(anfis_output)\n",
    "\n",
    "    n_traj.append(int(str(cur_dir_path).split(\"\\\\\")[1].split(\"_\")[0]))\n",
    "    losses.append(criteria(anfis_output, gt_sdre).item())"
   ]
  },
  {
   "attachments": {},
   "cell_type": "markdown",
   "metadata": {},
   "source": [
    "# Дополнительные данные о 100 треках"
   ]
  },
  {
   "cell_type": "code",
   "execution_count": 10,
   "metadata": {},
   "outputs": [
    {
     "name": "stdout",
     "output_type": "stream",
     "text": [
      "(10, 101, 3, 3)\n",
      "(10, 101, 3, 3)\n",
      "(25, 101, 3, 3)\n",
      "(25, 101, 3, 3)\n",
      "(50, 101, 3, 3)\n",
      "(50, 101, 3, 3)\n",
      "(100, 101, 3, 3)\n",
      "(100, 101, 3, 3)\n",
      "(100, 101, 3, 3)\n",
      "(200, 101, 3, 3)\n",
      "(200, 101, 3, 3)\n",
      "(500, 101, 3, 3)\n",
      "(500, 101, 3, 3)\n",
      "(750, 101, 3, 3)\n",
      "(750, 101, 3, 3)\n",
      "(1000, 101, 3, 3)\n",
      "(1000, 101, 3, 3)\n"
     ]
    }
   ],
   "source": [
    "data_root = Path(\"./additional_data\")\n",
    "folder_names = os.listdir(data_root)\n",
    "folder_names.sort(key = lambda x: int(x.split(\"_\")[0]))\n",
    "folder_paths = [data_root / i for i in folder_names]\n",
    "folder_paths\n",
    "\n",
    "add_n_traj = []\n",
    "add_losses = []\n",
    "\n",
    "for cur_dir_path in folder_paths:\n",
    "    sdre_mat_path = cur_dir_path / \"sdre_res.mat\"\n",
    "    anfis_mat_path = cur_dir_path / \"nfc_res.mat\"\n",
    "\n",
    "    gt_sdre = scipy.io.loadmat(sdre_mat_path)[\"sdre_res\"]\n",
    "    anfis_output = scipy.io.loadmat(anfis_mat_path)[\"nfc_res\"]\n",
    "    print(anfis_output.shape)\n",
    "\n",
    "    gt_sdre = gt_sdre.reshape(1, -1)\n",
    "    gt_sdre = torch.Tensor(gt_sdre)\n",
    "    anfis_output = anfis_output.reshape(1, -1)\n",
    "    anfis_output = torch.Tensor(anfis_output)\n",
    "\n",
    "    add_n_traj.append(int(str(cur_dir_path).split(\"\\\\\")[1].split(\"_\")[0]))\n",
    "    add_losses.append(criteria(anfis_output, gt_sdre).item())"
   ]
  },
  {
   "cell_type": "code",
   "execution_count": 11,
   "metadata": {},
   "outputs": [
    {
     "data": {
      "text/plain": [
       "([0.03712207451462746,\n",
       "  0.01971006765961647,\n",
       "  0.014389704912900925,\n",
       "  0.02496352419257164,\n",
       "  0.011660823598504066,\n",
       "  0.017681898549199104,\n",
       "  0.008708293549716473,\n",
       "  0.008708293549716473,\n",
       "  0.01116246823221445,\n",
       "  0.012612917460501194,\n",
       "  0.009829279966652393,\n",
       "  0.010330118238925934,\n",
       "  0.010158308781683445,\n",
       "  0.01118229329586029,\n",
       "  0.01096278429031372,\n",
       "  0.00990494154393673,\n",
       "  0.010224160738289356],\n",
       " [10,\n",
       "  10,\n",
       "  25,\n",
       "  25,\n",
       "  50,\n",
       "  50,\n",
       "  100,\n",
       "  100,\n",
       "  100,\n",
       "  200,\n",
       "  200,\n",
       "  500,\n",
       "  500,\n",
       "  750,\n",
       "  750,\n",
       "  1000,\n",
       "  1000])"
      ]
     },
     "execution_count": 11,
     "metadata": {},
     "output_type": "execute_result"
    }
   ],
   "source": [
    "add_losses, add_n_traj"
   ]
  },
  {
   "attachments": {},
   "cell_type": "markdown",
   "metadata": {},
   "source": [
    "# Визуализация"
   ]
  },
  {
   "cell_type": "code",
   "execution_count": 12,
   "metadata": {},
   "outputs": [
    {
     "data": {
      "text/plain": [
       "Text(0, 0.5, 'MSE ANFIS на валидации')"
      ]
     },
     "execution_count": 12,
     "metadata": {},
     "output_type": "execute_result"
    },
    {
     "data": {
      "image/png": "[encoded data removed]",
      "text/plain": [
       "<Figure size 640x480 with 1 Axes>"
      ]
     },
     "metadata": {},
     "output_type": "display_data"
    }
   ],
   "source": [
    "# n_traj[2] = 100\n",
    "plt.scatter(n_traj, losses, c=\"b\")\n",
    "plt.scatter(add_n_traj, add_losses, c=\"b\")\n",
    "\n",
    "# plt.plot(n_traj, losses, \"--\")\n",
    "plt.grid()\n",
    "plt.xlabel(\"Число треков для обучения ANFIS\")\n",
    "plt.ylabel(\"MSE ANFIS на валидации\")"
   ]
  },
  {
   "cell_type": "code",
   "execution_count": 13,
   "metadata": {},
   "outputs": [],
   "source": [
    "all_losses = losses + add_losses\n",
    "all_traj = n_traj + add_n_traj"
   ]
  },
  {
   "cell_type": "code",
   "execution_count": 14,
   "metadata": {},
   "outputs": [
    {
     "data": {
      "text/plain": [
       "<matplotlib.collections.PathCollection at 0x23595bceb90>"
      ]
     },
     "execution_count": 14,
     "metadata": {},
     "output_type": "execute_result"
    },
    {
     "data": {
      "image/png": "[encoded data removed]",
      "text/plain": [
       "<Figure size 640x480 with 1 Axes>"
      ]
     },
     "metadata": {},
     "output_type": "display_data"
    }
   ],
   "source": [
    "plt.scatter(all_traj, all_losses, c=\"b\")"
   ]
  },
  {
   "cell_type": "code",
   "execution_count": 15,
   "metadata": {},
   "outputs": [],
   "source": [
    "import statistics\n",
    "from math import sqrt\n",
    "\n",
    "def plot_confidence_interval(x, values, z=1.96, color='#2187bb', horizontal_line_width=0.25):\n",
    "    mean = statistics.mean(values)\n",
    "    stdev = statistics.stdev(values)\n",
    "    confidence_interval = z * stdev / sqrt(len(values))\n",
    "\n",
    "    left = x - horizontal_line_width / 2\n",
    "    top = mean - confidence_interval\n",
    "    right = x + horizontal_line_width / 2\n",
    "    bottom = mean + confidence_interval\n",
    "    plt.plot([x, x], [top, bottom], color=color)\n",
    "    plt.plot([left, right], [top, top], color=color)\n",
    "    plt.plot([left, right], [bottom, bottom], color=color)\n",
    "    plt.plot(x, mean, 'o', color='#f44336')\n",
    "\n",
    "    return mean, confidence_interval"
   ]
  },
  {
   "cell_type": "code",
   "execution_count": 16,
   "metadata": {},
   "outputs": [
    {
     "data": {
      "text/plain": [
       "[10,\n",
       " 25,\n",
       " 50,\n",
       " 100,\n",
       " 200,\n",
       " 500,\n",
       " 750,\n",
       " 1000,\n",
       " 10,\n",
       " 10,\n",
       " 25,\n",
       " 25,\n",
       " 50,\n",
       " 50,\n",
       " 100,\n",
       " 100,\n",
       " 100,\n",
       " 200,\n",
       " 200,\n",
       " 500,\n",
       " 500,\n",
       " 750,\n",
       " 750,\n",
       " 1000,\n",
       " 1000]"
      ]
     },
     "execution_count": 16,
     "metadata": {},
     "output_type": "execute_result"
    }
   ],
   "source": [
    "all_traj"
   ]
  },
  {
   "cell_type": "code",
   "execution_count": 17,
   "metadata": {},
   "outputs": [
    {
     "data": {
      "text/plain": [
       "Text(0.5, 1.0, 'Дисперсия качества ANFIS')"
      ]
     },
     "execution_count": 17,
     "metadata": {},
     "output_type": "execute_result"
    },
    {
     "data": {
      "image/png": "[encoded data removed]",
      "text/plain": [
       "<Figure size 640x480 with 1 Axes>"
      ]
     },
     "metadata": {},
     "output_type": "display_data"
    }
   ],
   "source": [
    "losses_array = np.vstack((all_traj ,all_losses))\n",
    "\n",
    "plt.figure()\n",
    "\n",
    "for n_tr in set(all_traj):\n",
    "    values = losses_array[1, :][losses_array[0, :] == n_tr]\n",
    "    plot_confidence_interval(n_tr, values)\n",
    "    \n",
    "\n",
    "plt.scatter(all_traj, all_losses, marker=\"x\", c=\"b\",alpha=0.5)\n",
    "\n",
    "plt.grid()\n",
    "\n",
    "plt.xlabel(\"Число треков для обучения ANFIS\")\n",
    "plt.ylabel(\"MSE ANFIS на валидации\")\n",
    "plt.title(\"Дисперсия качества ANFIS\")\n",
    "# plt.yscale(\"log\")"
   ]
  },
  {
   "cell_type": "code",
   "execution_count": null,
   "metadata": {},
   "outputs": [],
   "source": []
  },
  {
   "cell_type": "code",
   "execution_count": null,
   "metadata": {},
   "outputs": [],
   "source": []
  },
  {
   "cell_type": "code",
   "execution_count": 20,
   "metadata": {},
   "outputs": [],
   "source": [
    "import pickle\n",
    "\n",
    "save_data = {\"n_traj\" : all_traj, \n",
    "             \"losses\" : all_losses}\n",
    "\n",
    "with open(\"all_anfis_stats.pickle\", 'wb') as handle:\n",
    "    pickle.dump(save_data, handle, protocol=pickle.HIGHEST_PROTOCOL)"
   ]
  },
  {
   "cell_type": "code",
   "execution_count": 21,
   "metadata": {},
   "outputs": [],
   "source": [
    "# import pickle\n",
    "\n",
    "# save_data = {\"n_traj\" : n_traj, \n",
    "#              \"losses\" : losses}\n",
    "\n",
    "# with open(\"anfis_stats.pickle\", 'wb') as handle:\n",
    "#     pickle.dump(save_data, handle, protocol=pickle.HIGHEST_PROTOCOL)"
   ]
  },
  {
   "cell_type": "code",
   "execution_count": 22,
   "metadata": {},
   "outputs": [],
   "source": [
    "# import pickle\n",
    "\n",
    "# save_data = {\"n_traj\" : add_n_traj, \n",
    "#              \"losses\" : add_losses}\n",
    "\n",
    "# with open(\"add_anfis_stats.pickle\", 'wb') as handle:\n",
    "#     pickle.dump(save_data, handle, protocol=pickle.HIGHEST_PROTOCOL)"
   ]
  },
  {
   "cell_type": "code",
   "execution_count": 23,
   "metadata": {},
   "outputs": [],
   "source": [
    "# with open(\"anfis_stats.pickle\", 'rb') as handle:\n",
    "#     unserialized_data = pickle.load(handle)\n",
    "\n",
    "# unserialized_data"
   ]
  },
  {
   "cell_type": "code",
   "execution_count": null,
   "metadata": {},
   "outputs": [],
   "source": []
  }
 ],
 "metadata": {
  "kernelspec": {
   "display_name": "base",
   "language": "python",
   "name": "python3"
  },
  "language_info": {
   "codemirror_mode": {
    "name": "ipython",
    "version": 3
   },
   "file_extension": ".py",
   "mimetype": "text/x-python",
   "name": "python",
   "nbconvert_exporter": "python",
   "pygments_lexer": "ipython3",
   "version": "3.10.9"
  },
  "orig_nbformat": 4
 },
 "nbformat": 4,
 "nbformat_minor": 2
}
