{
 "cells": [
  {
   "cell_type": "code",
   "execution_count": 1,
   "metadata": {},
   "outputs": [],
   "source": [
    "import pandas as pd\n",
    "import torch\n",
    "from torch.utils.data import TensorDataset\n",
    "from torch.utils.data import DataLoader\n",
    "from sklearn.model_selection import train_test_split\n",
    "import wandb"
   ]
  },
  {
   "cell_type": "code",
   "execution_count": 2,
   "metadata": {},
   "outputs": [],
   "source": [
    "df = pd.read_csv(\"sdreDataset.csv\", names=range(1, 10))"
   ]
  },
  {
   "cell_type": "code",
   "execution_count": 3,
   "metadata": {},
   "outputs": [
    {
     "data": {
      "text/plain": [
       "((20200, 6), (20200, 3))"
      ]
     },
     "execution_count": 3,
     "metadata": {},
     "output_type": "execute_result"
    }
   ],
   "source": [
    "traj_system = df.values[:, 0:6]\n",
    "control_system = df.values[:, 6:]\n",
    "traj_system.shape, control_system.shape"
   ]
  },
  {
   "cell_type": "code",
   "execution_count": 4,
   "metadata": {},
   "outputs": [
    {
     "data": {
      "text/plain": [
       "(array([ 0.62944737,  0.81158387, -0.74602637,  0.07124575, -0.06913249,\n",
       "         0.06910579]),\n",
       " array([-1.72598724, -2.14473359,  2.07397462]))"
      ]
     },
     "execution_count": 4,
     "metadata": {},
     "output_type": "execute_result"
    }
   ],
   "source": [
    "traj_system[0, :], control_system[0, :]"
   ]
  },
  {
   "cell_type": "code",
   "execution_count": 5,
   "metadata": {},
   "outputs": [],
   "source": [
    "X_train, X_test, y_train, y_test = train_test_split(\n",
    "        traj_system, control_system, test_size=0.2, random_state=42, shuffle=False)"
   ]
  },
  {
   "cell_type": "code",
   "execution_count": 6,
   "metadata": {},
   "outputs": [],
   "source": [
    "X_train = torch.Tensor(X_train)\n",
    "y_train = torch.Tensor(y_train)\n",
    "\n",
    "X_test = torch.Tensor(X_test)\n",
    "y_test = torch.Tensor(y_test)\n",
    "\n",
    "train_dataset = TensorDataset(X_train, y_train)\n",
    "test_dataset = TensorDataset(X_test, y_test)"
   ]
  },
  {
   "cell_type": "code",
   "execution_count": 7,
   "metadata": {},
   "outputs": [
    {
     "data": {
      "text/plain": [
       "(tensor([ 0.6294,  0.8116, -0.7460,  0.0712, -0.0691,  0.0691]),\n",
       " tensor([-1.7260, -2.1447,  2.0740]))"
      ]
     },
     "execution_count": 7,
     "metadata": {},
     "output_type": "execute_result"
    }
   ],
   "source": [
    "train_dataset[0]"
   ]
  },
  {
   "cell_type": "code",
   "execution_count": 8,
   "metadata": {},
   "outputs": [],
   "source": [
    "train_loader = DataLoader(train_dataset, \n",
    "                          batch_size=64, \n",
    "                          shuffle=True,\n",
    "                          drop_last=True)\n",
    "\n",
    "test_loader = DataLoader(test_dataset, \n",
    "                          batch_size=64)"
   ]
  },
  {
   "cell_type": "code",
   "execution_count": 9,
   "metadata": {},
   "outputs": [],
   "source": [
    "import torch.nn as nn\n",
    "import torch.nn.functional as F\n",
    "import torch.optim as optim\n",
    "\n",
    "class DummyModel(nn.Module):\n",
    "    def __init__(self, input_dim=6, \n",
    "                 output_dim=3, \n",
    "                 hidden_dim=16) -> None:\n",
    "        super().__init__()\n",
    "        self.fc1 = nn.Linear(input_dim, hidden_dim)\n",
    "        self.fc2 = nn.Linear(hidden_dim, output_dim)\n",
    "        self.act = nn.ReLU()\n",
    "\n",
    "    def forward(self, x):\n",
    "        x = self.fc1(x)\n",
    "        x = self.act(x)\n",
    "        x = self.fc2(x)\n",
    "        return x\n",
    "    \n",
    "class DummyModel2(nn.Module):\n",
    "    def __init__(self, input_dim=6, \n",
    "                 output_dim=3, \n",
    "                 hidden_dim_1=16,\n",
    "                 hidden_dim_2=16,\n",
    "                 dropout_rate=0) -> None:\n",
    "        super().__init__()\n",
    "        self.fc1 = nn.Linear(input_dim, hidden_dim_1)\n",
    "        self.fc2 = nn.Linear(hidden_dim_1, hidden_dim_2)\n",
    "        self.fc3 = nn.Linear(hidden_dim_2, output_dim)\n",
    "        self.act = nn.ReLU()\n",
    "        self.dropout = nn.Dropout(p=dropout_rate)\n",
    "\n",
    "    def forward(self, x):\n",
    "        x = self.fc1(x)\n",
    "        x = self.act(x)\n",
    "        x = self.fc2(x)\n",
    "        x = self.act(x)\n",
    "        x = self.fc3(x)\n",
    "        return x"
   ]
  },
  {
   "cell_type": "code",
   "execution_count": 10,
   "metadata": {},
   "outputs": [],
   "source": [
    "from tqdm import tqdm\n",
    "\n",
    "def train_epoch():\n",
    "    model.train()\n",
    "\n",
    "    running_loss = 0.\n",
    "    n_ep_it_loss = 300\n",
    "\n",
    "    # for i, (X, y) in enumerate(tqdm(train_loader)):\n",
    "    for i, (X, y) in enumerate(train_loader):\n",
    "        X = X.to(device)\n",
    "        y = y.to(device)\n",
    "\n",
    "        output = model(X)\n",
    "        loss = criteria(output, y)\n",
    "\n",
    "        optimizer.zero_grad()\n",
    "        loss.backward()\n",
    "        optimizer.step()\n",
    "\n",
    "        running_loss += loss.item()\n",
    "\n",
    "        # if i % n_ep_it_loss == n_ep_it_loss - 1:\n",
    "        #     print(\"train loss = \", running_loss / n_ep_it_loss)\n",
    "        #     running_loss = 0."
   ]
  },
  {
   "cell_type": "code",
   "execution_count": 11,
   "metadata": {},
   "outputs": [],
   "source": [
    "from tqdm import tqdm\n",
    "\n",
    "def eval_epoch():\n",
    "    model.eval()\n",
    "    losses = []\n",
    "    # for i, (X, y) in enumerate(tqdm(test_loader)):\n",
    "    for i, (X, y) in enumerate(test_loader):\n",
    "        X = X.to(device)\n",
    "        y = y.to(device)\n",
    "\n",
    "        with torch.no_grad():\n",
    "            output = model(X)\n",
    "        loss = criteria(output, y)\n",
    "        losses.append(loss)\n",
    "\n",
    "    mean_loss = sum(losses) / len(losses)\n",
    "    # print(\"eval losss = \", mean_loss)\n",
    "    return mean_loss"
   ]
  },
  {
   "cell_type": "code",
   "execution_count": 12,
   "metadata": {},
   "outputs": [],
   "source": [
    "device = \"cuda\" if torch.cuda.is_available() else \"cpu\"\n",
    "# model = DummyModel(hidden_dim=256)\n",
    "model = DummyModel2(hidden_dim_1=128, \n",
    "                   hidden_dim_2=128)\n",
    "model.to(device)\n",
    "criteria = nn.MSELoss()\n",
    "optimizer = optim.Adam(model.parameters())"
   ]
  },
  {
   "cell_type": "code",
   "execution_count": 13,
   "metadata": {},
   "outputs": [
    {
     "data": {
      "text/plain": [
       "DummyModel2(\n",
       "  (fc1): Linear(in_features=6, out_features=128, bias=True)\n",
       "  (fc2): Linear(in_features=128, out_features=128, bias=True)\n",
       "  (fc3): Linear(in_features=128, out_features=3, bias=True)\n",
       "  (act): ReLU()\n",
       "  (dropout): Dropout(p=0, inplace=False)\n",
       ")"
      ]
     },
     "execution_count": 13,
     "metadata": {},
     "output_type": "execute_result"
    }
   ],
   "source": [
    "model"
   ]
  },
  {
   "cell_type": "code",
   "execution_count": 14,
   "metadata": {},
   "outputs": [
    {
     "name": "stderr",
     "output_type": "stream",
     "text": [
      "Failed to detect the name of this notebook, you can set it manually with the WANDB_NOTEBOOK_NAME environment variable to enable code saving.\n",
      "\u001b[34m\u001b[1mwandb\u001b[0m: Currently logged in as: \u001b[33mpetili\u001b[0m. Use \u001b[1m`wandb login --relogin`\u001b[0m to force relogin\n"
     ]
    },
    {
     "data": {
      "text/html": [
       "Tracking run with wandb version 0.15.1"
      ],
      "text/plain": [
       "<IPython.core.display.HTML object>"
      ]
     },
     "metadata": {},
     "output_type": "display_data"
    },
    {
     "data": {
      "text/html": [
       "Run data is saved locally in <code>c:\\Users\\petry\\Desktop\\МФТИ\\МТИИ-Учеба\\2 семестр\\Проект Управление\\wandb\\run-20230505_193930-torsdiks</code>"
      ],
      "text/plain": [
       "<IPython.core.display.HTML object>"
      ]
     },
     "metadata": {},
     "output_type": "display_data"
    },
    {
     "data": {
      "text/html": [
       "Syncing run <strong><a href='https://wandb.ai/petili/SDRE_Approx/runs/torsdiks' target=\"_blank\">MLP 6-128-128-3</a></strong> to <a href='https://wandb.ai/petili/SDRE_Approx' target=\"_blank\">Weights & Biases</a> (<a href='https://wandb.me/run' target=\"_blank\">docs</a>)<br/>"
      ],
      "text/plain": [
       "<IPython.core.display.HTML object>"
      ]
     },
     "metadata": {},
     "output_type": "display_data"
    },
    {
     "data": {
      "text/html": [
       " View project at <a href='https://wandb.ai/petili/SDRE_Approx' target=\"_blank\">https://wandb.ai/petili/SDRE_Approx</a>"
      ],
      "text/plain": [
       "<IPython.core.display.HTML object>"
      ]
     },
     "metadata": {},
     "output_type": "display_data"
    },
    {
     "data": {
      "text/html": [
       " View run at <a href='https://wandb.ai/petili/SDRE_Approx/runs/torsdiks' target=\"_blank\">https://wandb.ai/petili/SDRE_Approx/runs/torsdiks</a>"
      ],
      "text/plain": [
       "<IPython.core.display.HTML object>"
      ]
     },
     "metadata": {},
     "output_type": "display_data"
    }
   ],
   "source": [
    "wandb_loggging = True\n",
    "if wandb_loggging:\n",
    "    project_name = \"SDRE_Approx\"\n",
    "    run_name = \"MLP 6-128-128-3\"\n",
    "\n",
    "    wandb.login()\n",
    "    wandb.init(project=project_name,\n",
    "               name=run_name)"
   ]
  },
  {
   "cell_type": "code",
   "execution_count": 15,
   "metadata": {},
   "outputs": [],
   "source": [
    "eval_history = []\n",
    "val_loss = eval_epoch()\n",
    "eval_history.append(val_loss)\n",
    "\n",
    "if wandb_loggging:\n",
    "    wandb.log({\n",
    "        \"val_loss\": val_loss,\n",
    "        \"epoch\" : 0\n",
    "        })"
   ]
  },
  {
   "cell_type": "code",
   "execution_count": 16,
   "metadata": {},
   "outputs": [
    {
     "name": "stdout",
     "output_type": "stream",
     "text": [
      "eval losss on epoch 0 =  tensor(0.0097)\n",
      "eval losss on epoch 1 =  tensor(0.0077)\n",
      "eval losss on epoch 2 =  tensor(0.0071)\n",
      "eval losss on epoch 3 =  tensor(0.0063)\n",
      "eval losss on epoch 4 =  tensor(0.0058)\n",
      "eval losss on epoch 5 =  tensor(0.0063)\n",
      "eval losss on epoch 6 =  tensor(0.0056)\n",
      "eval losss on epoch 7 =  tensor(0.0056)\n",
      "eval losss on epoch 8 =  tensor(0.0056)\n",
      "eval losss on epoch 9 =  tensor(0.0060)\n",
      "eval losss on epoch 10 =  tensor(0.0058)\n",
      "eval losss on epoch 11 =  tensor(0.0057)\n",
      "eval losss on epoch 12 =  tensor(0.0059)\n",
      "eval losss on epoch 13 =  tensor(0.0060)\n",
      "eval losss on epoch 14 =  tensor(0.0059)\n",
      "eval losss on epoch 15 =  tensor(0.0055)\n",
      "eval losss on epoch 16 =  tensor(0.0063)\n",
      "eval losss on epoch 17 =  tensor(0.0056)\n",
      "eval losss on epoch 18 =  tensor(0.0058)\n",
      "eval losss on epoch 19 =  tensor(0.0054)\n",
      "eval losss on epoch 20 =  tensor(0.0056)\n",
      "eval losss on epoch 21 =  tensor(0.0063)\n",
      "eval losss on epoch 22 =  tensor(0.0055)\n",
      "eval losss on epoch 23 =  tensor(0.0057)\n",
      "eval losss on epoch 24 =  tensor(0.0055)\n",
      "eval losss on epoch 25 =  tensor(0.0063)\n",
      "eval losss on epoch 26 =  tensor(0.0054)\n",
      "eval losss on epoch 27 =  tensor(0.0057)\n",
      "eval losss on epoch 28 =  tensor(0.0053)\n",
      "eval losss on epoch 29 =  tensor(0.0059)\n",
      "eval losss on epoch 30 =  tensor(0.0052)\n",
      "eval losss on epoch 31 =  tensor(0.0054)\n",
      "eval losss on epoch 32 =  tensor(0.0059)\n",
      "eval losss on epoch 33 =  tensor(0.0059)\n",
      "eval losss on epoch 34 =  tensor(0.0050)\n",
      "eval losss on epoch 35 =  tensor(0.0056)\n",
      "eval losss on epoch 36 =  tensor(0.0062)\n",
      "eval losss on epoch 37 =  tensor(0.0062)\n",
      "eval losss on epoch 38 =  tensor(0.0056)\n",
      "eval losss on epoch 39 =  tensor(0.0055)\n",
      "eval losss on epoch 40 =  tensor(0.0055)\n",
      "eval losss on epoch 41 =  tensor(0.0056)\n",
      "eval losss on epoch 42 =  tensor(0.0056)\n",
      "eval losss on epoch 43 =  tensor(0.0055)\n",
      "eval losss on epoch 44 =  tensor(0.0057)\n",
      "eval losss on epoch 45 =  tensor(0.0056)\n",
      "eval losss on epoch 46 =  tensor(0.0051)\n",
      "eval losss on epoch 47 =  tensor(0.0051)\n",
      "eval losss on epoch 48 =  tensor(0.0054)\n",
      "eval losss on epoch 49 =  tensor(0.0053)\n",
      "eval losss on epoch 50 =  tensor(0.0056)\n",
      "eval losss on epoch 51 =  tensor(0.0048)\n",
      "eval losss on epoch 52 =  tensor(0.0051)\n",
      "eval losss on epoch 53 =  tensor(0.0060)\n",
      "eval losss on epoch 54 =  tensor(0.0056)\n",
      "eval losss on epoch 55 =  tensor(0.0056)\n",
      "eval losss on epoch 56 =  tensor(0.0059)\n",
      "eval losss on epoch 57 =  tensor(0.0054)\n",
      "eval losss on epoch 58 =  tensor(0.0050)\n",
      "eval losss on epoch 59 =  tensor(0.0055)\n",
      "eval losss on epoch 60 =  tensor(0.0053)\n",
      "eval losss on epoch 61 =  tensor(0.0056)\n",
      "eval losss on epoch 62 =  tensor(0.0058)\n",
      "eval losss on epoch 63 =  tensor(0.0055)\n",
      "eval losss on epoch 64 =  tensor(0.0059)\n",
      "eval losss on epoch 65 =  tensor(0.0054)\n",
      "eval losss on epoch 66 =  tensor(0.0057)\n",
      "eval losss on epoch 67 =  tensor(0.0056)\n",
      "eval losss on epoch 68 =  tensor(0.0055)\n",
      "eval losss on epoch 69 =  tensor(0.0056)\n",
      "eval losss on epoch 70 =  tensor(0.0062)\n",
      "eval losss on epoch 71 =  tensor(0.0054)\n",
      "eval losss on epoch 72 =  tensor(0.0056)\n",
      "eval losss on epoch 73 =  tensor(0.0054)\n",
      "eval losss on epoch 74 =  tensor(0.0061)\n",
      "eval losss on epoch 75 =  tensor(0.0055)\n",
      "eval losss on epoch 76 =  tensor(0.0054)\n",
      "eval losss on epoch 77 =  tensor(0.0062)\n",
      "eval losss on epoch 78 =  tensor(0.0061)\n",
      "eval losss on epoch 79 =  tensor(0.0053)\n",
      "eval losss on epoch 80 =  tensor(0.0053)\n",
      "eval losss on epoch 81 =  tensor(0.0064)\n",
      "eval losss on epoch 82 =  tensor(0.0058)\n",
      "eval losss on epoch 83 =  tensor(0.0059)\n",
      "eval losss on epoch 84 =  tensor(0.0058)\n",
      "eval losss on epoch 85 =  tensor(0.0056)\n",
      "eval losss on epoch 86 =  tensor(0.0057)\n",
      "eval losss on epoch 87 =  tensor(0.0056)\n",
      "eval losss on epoch 88 =  tensor(0.0053)\n",
      "eval losss on epoch 89 =  tensor(0.0057)\n",
      "eval losss on epoch 90 =  tensor(0.0058)\n",
      "eval losss on epoch 91 =  tensor(0.0057)\n",
      "eval losss on epoch 92 =  tensor(0.0059)\n",
      "eval losss on epoch 93 =  tensor(0.0057)\n",
      "eval losss on epoch 94 =  tensor(0.0054)\n",
      "eval losss on epoch 95 =  tensor(0.0056)\n",
      "eval losss on epoch 96 =  tensor(0.0055)\n",
      "eval losss on epoch 97 =  tensor(0.0057)\n",
      "eval losss on epoch 98 =  tensor(0.0053)\n",
      "eval losss on epoch 99 =  tensor(0.0060)\n",
      "eval losss on epoch 100 =  tensor(0.0057)\n",
      "eval losss on epoch 101 =  tensor(0.0058)\n",
      "eval losss on epoch 102 =  tensor(0.0055)\n",
      "eval losss on epoch 103 =  tensor(0.0066)\n",
      "eval losss on epoch 104 =  tensor(0.0059)\n",
      "eval losss on epoch 105 =  tensor(0.0058)\n",
      "eval losss on epoch 106 =  tensor(0.0058)\n",
      "eval losss on epoch 107 =  tensor(0.0054)\n",
      "eval losss on epoch 108 =  tensor(0.0061)\n",
      "eval losss on epoch 109 =  tensor(0.0060)\n",
      "eval losss on epoch 110 =  tensor(0.0058)\n",
      "eval losss on epoch 111 =  tensor(0.0060)\n",
      "eval losss on epoch 112 =  tensor(0.0057)\n",
      "eval losss on epoch 113 =  tensor(0.0063)\n",
      "eval losss on epoch 114 =  tensor(0.0054)\n",
      "eval losss on epoch 115 =  tensor(0.0058)\n",
      "eval losss on epoch 116 =  tensor(0.0065)\n",
      "eval losss on epoch 117 =  tensor(0.0059)\n",
      "eval losss on epoch 118 =  tensor(0.0056)\n",
      "eval losss on epoch 119 =  tensor(0.0058)\n",
      "eval losss on epoch 120 =  tensor(0.0053)\n",
      "eval losss on epoch 121 =  tensor(0.0060)\n",
      "eval losss on epoch 122 =  tensor(0.0059)\n",
      "eval losss on epoch 123 =  tensor(0.0058)\n",
      "eval losss on epoch 124 =  tensor(0.0061)\n",
      "eval losss on epoch 125 =  tensor(0.0064)\n",
      "eval losss on epoch 126 =  tensor(0.0062)\n",
      "eval losss on epoch 127 =  tensor(0.0060)\n",
      "eval losss on epoch 128 =  tensor(0.0060)\n",
      "eval losss on epoch 129 =  tensor(0.0064)\n",
      "eval losss on epoch 130 =  tensor(0.0059)\n",
      "eval losss on epoch 131 =  tensor(0.0060)\n",
      "eval losss on epoch 132 =  tensor(0.0059)\n",
      "eval losss on epoch 133 =  tensor(0.0063)\n"
     ]
    },
    {
     "ename": "KeyboardInterrupt",
     "evalue": "",
     "output_type": "error",
     "traceback": [
      "\u001b[1;31m---------------------------------------------------------------------------\u001b[0m",
      "\u001b[1;31mKeyboardInterrupt\u001b[0m                         Traceback (most recent call last)",
      "Cell \u001b[1;32mIn[16], line 3\u001b[0m\n\u001b[0;32m      1\u001b[0m \u001b[39mfor\u001b[39;00m epoch \u001b[39min\u001b[39;00m \u001b[39mrange\u001b[39m(\u001b[39m800\u001b[39m):\n\u001b[0;32m      2\u001b[0m \u001b[39m# for epoch in range(800, 1000):\u001b[39;00m\n\u001b[1;32m----> 3\u001b[0m     train_epoch()\n\u001b[0;32m      4\u001b[0m     val_loss \u001b[39m=\u001b[39m eval_epoch()\n\u001b[0;32m      5\u001b[0m     \u001b[39mprint\u001b[39m(\u001b[39mf\u001b[39m\u001b[39m\"\u001b[39m\u001b[39meval losss on epoch \u001b[39m\u001b[39m{\u001b[39;00mepoch\u001b[39m}\u001b[39;00m\u001b[39m = \u001b[39m\u001b[39m\"\u001b[39m, val_loss)\n",
      "Cell \u001b[1;32mIn[10], line 14\u001b[0m, in \u001b[0;36mtrain_epoch\u001b[1;34m()\u001b[0m\n\u001b[0;32m     11\u001b[0m X \u001b[39m=\u001b[39m X\u001b[39m.\u001b[39mto(device)\n\u001b[0;32m     12\u001b[0m y \u001b[39m=\u001b[39m y\u001b[39m.\u001b[39mto(device)\n\u001b[1;32m---> 14\u001b[0m output \u001b[39m=\u001b[39m model(X)\n\u001b[0;32m     15\u001b[0m loss \u001b[39m=\u001b[39m criteria(output, y)\n\u001b[0;32m     17\u001b[0m optimizer\u001b[39m.\u001b[39mzero_grad()\n",
      "File \u001b[1;32mc:\\Users\\petry\\anaconda3\\lib\\site-packages\\torch\\nn\\modules\\module.py:1130\u001b[0m, in \u001b[0;36mModule._call_impl\u001b[1;34m(self, *input, **kwargs)\u001b[0m\n\u001b[0;32m   1126\u001b[0m \u001b[39m# If we don't have any hooks, we want to skip the rest of the logic in\u001b[39;00m\n\u001b[0;32m   1127\u001b[0m \u001b[39m# this function, and just call forward.\u001b[39;00m\n\u001b[0;32m   1128\u001b[0m \u001b[39mif\u001b[39;00m \u001b[39mnot\u001b[39;00m (\u001b[39mself\u001b[39m\u001b[39m.\u001b[39m_backward_hooks \u001b[39mor\u001b[39;00m \u001b[39mself\u001b[39m\u001b[39m.\u001b[39m_forward_hooks \u001b[39mor\u001b[39;00m \u001b[39mself\u001b[39m\u001b[39m.\u001b[39m_forward_pre_hooks \u001b[39mor\u001b[39;00m _global_backward_hooks\n\u001b[0;32m   1129\u001b[0m         \u001b[39mor\u001b[39;00m _global_forward_hooks \u001b[39mor\u001b[39;00m _global_forward_pre_hooks):\n\u001b[1;32m-> 1130\u001b[0m     \u001b[39mreturn\u001b[39;00m forward_call(\u001b[39m*\u001b[39m\u001b[39minput\u001b[39m, \u001b[39m*\u001b[39m\u001b[39m*\u001b[39mkwargs)\n\u001b[0;32m   1131\u001b[0m \u001b[39m# Do not call functions when jit is used\u001b[39;00m\n\u001b[0;32m   1132\u001b[0m full_backward_hooks, non_full_backward_hooks \u001b[39m=\u001b[39m [], []\n",
      "Cell \u001b[1;32mIn[9], line 36\u001b[0m, in \u001b[0;36mDummyModel2.forward\u001b[1;34m(self, x)\u001b[0m\n\u001b[0;32m     34\u001b[0m x \u001b[39m=\u001b[39m \u001b[39mself\u001b[39m\u001b[39m.\u001b[39mfc1(x)\n\u001b[0;32m     35\u001b[0m x \u001b[39m=\u001b[39m \u001b[39mself\u001b[39m\u001b[39m.\u001b[39mact(x)\n\u001b[1;32m---> 36\u001b[0m x \u001b[39m=\u001b[39m \u001b[39mself\u001b[39;49m\u001b[39m.\u001b[39;49mfc2(x)\n\u001b[0;32m     37\u001b[0m x \u001b[39m=\u001b[39m \u001b[39mself\u001b[39m\u001b[39m.\u001b[39mact(x)\n\u001b[0;32m     38\u001b[0m x \u001b[39m=\u001b[39m \u001b[39mself\u001b[39m\u001b[39m.\u001b[39mfc3(x)\n",
      "File \u001b[1;32mc:\\Users\\petry\\anaconda3\\lib\\site-packages\\torch\\nn\\modules\\module.py:1130\u001b[0m, in \u001b[0;36mModule._call_impl\u001b[1;34m(self, *input, **kwargs)\u001b[0m\n\u001b[0;32m   1126\u001b[0m \u001b[39m# If we don't have any hooks, we want to skip the rest of the logic in\u001b[39;00m\n\u001b[0;32m   1127\u001b[0m \u001b[39m# this function, and just call forward.\u001b[39;00m\n\u001b[0;32m   1128\u001b[0m \u001b[39mif\u001b[39;00m \u001b[39mnot\u001b[39;00m (\u001b[39mself\u001b[39m\u001b[39m.\u001b[39m_backward_hooks \u001b[39mor\u001b[39;00m \u001b[39mself\u001b[39m\u001b[39m.\u001b[39m_forward_hooks \u001b[39mor\u001b[39;00m \u001b[39mself\u001b[39m\u001b[39m.\u001b[39m_forward_pre_hooks \u001b[39mor\u001b[39;00m _global_backward_hooks\n\u001b[0;32m   1129\u001b[0m         \u001b[39mor\u001b[39;00m _global_forward_hooks \u001b[39mor\u001b[39;00m _global_forward_pre_hooks):\n\u001b[1;32m-> 1130\u001b[0m     \u001b[39mreturn\u001b[39;00m forward_call(\u001b[39m*\u001b[39m\u001b[39minput\u001b[39m, \u001b[39m*\u001b[39m\u001b[39m*\u001b[39mkwargs)\n\u001b[0;32m   1131\u001b[0m \u001b[39m# Do not call functions when jit is used\u001b[39;00m\n\u001b[0;32m   1132\u001b[0m full_backward_hooks, non_full_backward_hooks \u001b[39m=\u001b[39m [], []\n",
      "File \u001b[1;32mc:\\Users\\petry\\anaconda3\\lib\\site-packages\\torch\\nn\\modules\\linear.py:114\u001b[0m, in \u001b[0;36mLinear.forward\u001b[1;34m(self, input)\u001b[0m\n\u001b[0;32m    113\u001b[0m \u001b[39mdef\u001b[39;00m \u001b[39mforward\u001b[39m(\u001b[39mself\u001b[39m, \u001b[39minput\u001b[39m: Tensor) \u001b[39m-\u001b[39m\u001b[39m>\u001b[39m Tensor:\n\u001b[1;32m--> 114\u001b[0m     \u001b[39mreturn\u001b[39;00m F\u001b[39m.\u001b[39;49mlinear(\u001b[39minput\u001b[39;49m, \u001b[39mself\u001b[39;49m\u001b[39m.\u001b[39;49mweight, \u001b[39mself\u001b[39;49m\u001b[39m.\u001b[39;49mbias)\n",
      "\u001b[1;31mKeyboardInterrupt\u001b[0m: "
     ]
    }
   ],
   "source": [
    "for epoch in range(100):\n",
    "# for epoch in range(800, 1000):\n",
    "    train_epoch()\n",
    "    val_loss = eval_epoch()\n",
    "    print(f\"eval losss on epoch {epoch} = \", val_loss)\n",
    "    eval_history.append(val_loss)\n",
    "\n",
    "    if wandb_loggging:\n",
    "        wandb.log({\n",
    "            \"val_loss\": val_loss,\n",
    "            \"epoch\" : epoch\n",
    "            })"
   ]
  },
  {
   "cell_type": "code",
   "execution_count": null,
   "metadata": {},
   "outputs": [
    {
     "data": {
      "text/plain": [
       "[<matplotlib.lines.Line2D at 0x208f82bf9a0>]"
      ]
     },
     "execution_count": 88,
     "metadata": {},
     "output_type": "execute_result"
    },
    {
     "data": {
      "image/png": "[encoded data removed]",
      "text/plain": [
       "<Figure size 640x480 with 1 Axes>"
      ]
     },
     "metadata": {},
     "output_type": "display_data"
    }
   ],
   "source": [
    "import matplotlib.pyplot as plt\n",
    "\n",
    "plt.plot(eval_history)"
   ]
  },
  {
   "cell_type": "code",
   "execution_count": null,
   "metadata": {},
   "outputs": [],
   "source": []
  }
 ],
 "metadata": {
  "kernelspec": {
   "display_name": "Python 3",
   "language": "python",
   "name": "python3"
  },
  "language_info": {
   "codemirror_mode": {
    "name": "ipython",
    "version": 3
   },
   "file_extension": ".py",
   "mimetype": "text/x-python",
   "name": "python",
   "nbconvert_exporter": "python",
   "pygments_lexer": "ipython3",
   "version": "3.10.9"
  },
  "orig_nbformat": 4
 },
 "nbformat": 4,
 "nbformat_minor": 2
}
